{
 "cells": [
  {
   "cell_type": "code",
   "execution_count": 2,
   "metadata": {},
   "outputs": [],
   "source": [
    "import pandas as pd\n",
    "from selenium import webdriver\n",
    "from bs4 import BeautifulSoup\n",
    "import requests\n",
    "from selenium.webdriver.common.by import By\n",
    "from selenium.webdriver.chrome.options import Options\n",
    "from selenium.webdriver.chrome.service import Service\n",
    "from webdriver_manager.chrome import ChromeDriverManager\n",
    "import time\n",
    "import re\n",
    "from pathos.multiprocessing import ProcessingPool\n",
    "from pathos.multiprocessing import ProcessPool\n",
    "import datetime\n",
    "import os\n",
    "import progressbar\n",
    "import pickle"
   ]
  },
  {
   "cell_type": "code",
   "execution_count": 3,
   "metadata": {},
   "outputs": [],
   "source": [
    "main_path = 'D:\\Google Drive\\내 드라이브\\Project\\LiveCommerse\\FUCKUGOOGLE//'\n",
    "driver_path = 'D:\\Google Drive\\내 드라이브\\chromedriver_win32\\chromedriver.exe'"
   ]
  },
  {
   "cell_type": "code",
   "execution_count": 6,
   "metadata": {},
   "outputs": [],
   "source": [
    "url = 'https://shoppinglive.naver.com/categories/dc:1?sort=AMOUNT'\n",
    "\n",
    "chrome_options = Options()\n",
    "# chrome_options.add_argument(\"--headless\")\n",
    "driver = webdriver.Chrome(service=Service(ChromeDriverManager().install()), options=chrome_options)\n",
    "\n",
    "driver.get(url)\n",
    "time.sleep(3)"
   ]
  },
  {
   "cell_type": "code",
   "execution_count": 7,
   "metadata": {},
   "outputs": [],
   "source": [
    "# chrome_driver_path = driver_path\n",
    "# chrome_options = Options()\n",
    "# chrome_options.add_argument(\"--headless\")\n",
    "# driver = webdriver.Chrome(chrome_driver_path, options=chrome_options)\n"
   ]
  },
  {
   "cell_type": "code",
   "execution_count": null,
   "metadata": {},
   "outputs": [],
   "source": [
    "soup = BeautifulSoup(driver.page_source, 'html.parser')\n",
    "url_list = soup.select('div.VideoBoxWrapper_wrap_Usbk7.VerticalCardList_item_YPN88')\n",
    "url_list"
   ]
  },
  {
   "cell_type": "code",
   "execution_count": 11,
   "metadata": {},
   "outputs": [],
   "source": [
    "temp_df = pd.DataFrame()\n",
    "Beauty_video_list = []\n",
    "for j, i in enumerate(url_list):\n",
    "    i = str(i)\n",
    "    temp = i.split('href=\"')[1]\n",
    "    video_list = temp.split('\"><div')[0]\n",
    "    item_name = temp.split('</path></g></svg><img alt=\"')[2]\n",
    "    item_name = item_name.split('\" class=\"CardThumbnail_image_d88Hz\"')[0]\n",
    "    channel_list = i.split('href=\"')[2]\n",
    "    channel_name = channel_list.split('BroadcastUnderCard_name_+7+cK\">')[1]\n",
    "    channel_name = channel_name.split('</span><')[0]\n",
    "    channel_list = channel_list.split('\"><span class=')[0]\n",
    "    channel_list = 'https://shoppinglive.naver.com' + channel_list\n",
    "    if 'replays' in video_list:\n",
    "        temp_df.loc[j, 'Video_url'] = video_list\n",
    "        temp_df.loc[j, 'Item_Name'] = item_name\n",
    "        temp_df.loc[j, 'Channel_url'] = channel_list\n",
    "        temp_df.loc[j, 'Channel_Name'] = channel_name\n"
   ]
  },
  {
   "cell_type": "code",
   "execution_count": 20,
   "metadata": {},
   "outputs": [],
   "source": [
    "temp_df.to_excel(main_path + 'Beauty/Beauty_data.xlsx', index=False)"
   ]
  },
  {
   "cell_type": "code",
   "execution_count": 4,
   "metadata": {},
   "outputs": [],
   "source": [
    "df = pd.read_excel(main_path + 'Beauty/Beauty_data.xlsx')"
   ]
  },
  {
   "cell_type": "code",
   "execution_count": 5,
   "metadata": {},
   "outputs": [
    {
     "data": {
      "text/html": [
       "<div>\n",
       "<style scoped>\n",
       "    .dataframe tbody tr th:only-of-type {\n",
       "        vertical-align: middle;\n",
       "    }\n",
       "\n",
       "    .dataframe tbody tr th {\n",
       "        vertical-align: top;\n",
       "    }\n",
       "\n",
       "    .dataframe thead th {\n",
       "        text-align: right;\n",
       "    }\n",
       "</style>\n",
       "<table border=\"1\" class=\"dataframe\">\n",
       "  <thead>\n",
       "    <tr style=\"text-align: right;\">\n",
       "      <th></th>\n",
       "      <th>Video_url</th>\n",
       "      <th>Item_Name</th>\n",
       "      <th>Channel_url</th>\n",
       "      <th>Channel_Name</th>\n",
       "    </tr>\n",
       "  </thead>\n",
       "  <tbody>\n",
       "    <tr>\n",
       "      <th>0</th>\n",
       "      <td>https://view.shoppinglive.naver.com/replays/92...</td>\n",
       "      <td>닥터지 레드 블레미쉬 스페셜 진정 세트(크림 50ml+선 35ml)</td>\n",
       "      <td>https://shoppinglive.naver.com/channels/10418</td>\n",
       "      <td>고운세상 닥터지</td>\n",
       "    </tr>\n",
       "    <tr>\n",
       "      <th>1</th>\n",
       "      <td>https://view.shoppinglive.naver.com/replays/90...</td>\n",
       "      <td>[공식몰]C E 페룰릭 세트/항산화 안티에이징 앰플(+나이트 항산화 에센스 3종)</td>\n",
       "      <td>https://shoppinglive.naver.com/channels/70049</td>\n",
       "      <td>스킨수티컬즈</td>\n",
       "    </tr>\n",
       "  </tbody>\n",
       "</table>\n",
       "</div>"
      ],
      "text/plain": [
       "                                           Video_url  \\\n",
       "0  https://view.shoppinglive.naver.com/replays/92...   \n",
       "1  https://view.shoppinglive.naver.com/replays/90...   \n",
       "\n",
       "                                       Item_Name  \\\n",
       "0          닥터지 레드 블레미쉬 스페셜 진정 세트(크림 50ml+선 35ml)   \n",
       "1  [공식몰]C E 페룰릭 세트/항산화 안티에이징 앰플(+나이트 항산화 에센스 3종)   \n",
       "\n",
       "                                     Channel_url Channel_Name  \n",
       "0  https://shoppinglive.naver.com/channels/10418     고운세상 닥터지  \n",
       "1  https://shoppinglive.naver.com/channels/70049       스킨수티컬즈  "
      ]
     },
     "execution_count": 5,
     "metadata": {},
     "output_type": "execute_result"
    }
   ],
   "source": [
    "df.head(2)"
   ]
  },
  {
   "cell_type": "code",
   "execution_count": 6,
   "metadata": {},
   "outputs": [],
   "source": [
    "chrome_options = Options()\n",
    "chrome_options.add_argument(\"--headless\")\n",
    "driver = webdriver.Chrome(service=Service(ChromeDriverManager().install()), options=chrome_options)"
   ]
  },
  {
   "cell_type": "code",
   "execution_count": 7,
   "metadata": {},
   "outputs": [],
   "source": [
    "for i in range(len(df)):\n",
    "    temp_df = df.loc[i]\n",
    "    video_url = temp_df[0]\n",
    "    channel_url = temp_df[2]\n",
    "    \n",
    "    driver.get(video_url)\n",
    "    time.sleep(5)\n",
    "\n",
    "    soup = BeautifulSoup(driver.page_source, 'html.parser')\n",
    "    video_view = soup.select('span.BroadcastStatusBadge_number_ZHAih')\n",
    "    video_view = str(video_view)\n",
    "    video_view = video_view.split('\">')[1]\n",
    "    video_view = video_view.split('</sp')[0]\n",
    "    video_view = re.sub(r\"[^0-9]\", \"\", video_view)\n",
    "    video_view = int(video_view)\n",
    "\n",
    "    like_number = soup.select('span.LikeButton_number_IXgmK.__disable_double_tab')\n",
    "    like_number = str(like_number)\n",
    "    like_number = like_number.split('\">')[1]\n",
    "    like_number = like_number.split('</sp')[0]\n",
    "    like_number = re.sub(r\"[^0-9]\", \"\", like_number)\n",
    "    like_number = int(like_number)\n",
    "\n",
    "    total_time = soup.select('time.VideoTime_size_l_mtdgH.VideoTime_position_right_ZNTiK')\n",
    "    total_time = str(total_time)\n",
    "    total_time = total_time.split('datetime=\"')[1]\n",
    "    total_time = total_time.split('\"')[0]\n",
    "    \n",
    "    try:\n",
    "        price = soup.select('strong.DiscountPrice_price_eerER')\n",
    "        price = str(price)\n",
    "        price = price.split('\">')[1]\n",
    "        price = price.split('</st')[0]\n",
    "        price = re.sub(r\"[^0-9]\", \"\", price)\n",
    "        price = int(price)\n",
    "    except:\n",
    "        price = 0\n",
    "    \n",
    "    df.loc[i, 'Video_View'] = video_view\n",
    "    df.loc[i, 'Like_Number'] = like_number\n",
    "    df.loc[i, 'Video_Time'] = total_time\n",
    "    df.loc[i, 'Item_Price'] = price\n",
    "\n",
    "    driver.get(channel_url)\n",
    "    time.sleep(6)\n",
    "    soup = BeautifulSoup(driver.page_source, 'html.parser')\n",
    "    try:\n",
    "        Num_sub = str(soup.select('div.ProfileCreator_fan_lUrMY'))\n",
    "        Num_sub = Num_sub.split('\">')[1]\n",
    "        Num_sub = Num_sub.split('명')[0]\n",
    "\n",
    "        if '만' in Num_sub:\n",
    "            Num_sub = re.sub(r\"[^0-9]\", \"\", Num_sub)\n",
    "            Num_sub = float(Num_sub) * 10000\n",
    "            Num_sub = int(Num_sub)\n",
    "        else:\n",
    "            Num_sub = re.sub(r\"[^0-9]\", \"\", Num_sub)\n",
    "            Num_sub = int(Num_sub)\n",
    "    except:\n",
    "        Num_sub = 0\n",
    "    \n",
    "    try:\n",
    "        Num_Video = str(soup.select('div.ItemCount_wrap_dYzmP'))\n",
    "\n",
    "        Num_Video = (Num_Video.split('<')[1])\n",
    "        Num_Video = (Num_Video.split('>')[1])\n",
    "        Num_Video = (Num_Video.split(' ')[1])\n",
    "    except:\n",
    "        Num_Video = 0\n",
    "        \n",
    "    df.loc[i, 'Num_Subscriber'] = Num_sub\n",
    "    df.loc[i, 'Num_Video'] = Num_Video\n",
    "    \n",
    "    df.to_excel(main_path + 'Beauty/Beauty_Total_Data.xlsx', index=False)"
   ]
  }
 ],
 "metadata": {
  "kernelspec": {
   "display_name": "base",
   "language": "python",
   "name": "python3"
  },
  "language_info": {
   "codemirror_mode": {
    "name": "ipython",
    "version": 3
   },
   "file_extension": ".py",
   "mimetype": "text/x-python",
   "name": "python",
   "nbconvert_exporter": "python",
   "pygments_lexer": "ipython3",
   "version": "3.9.13"
  },
  "orig_nbformat": 4
 },
 "nbformat": 4,
 "nbformat_minor": 2
}
