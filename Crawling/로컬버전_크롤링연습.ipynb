{
 "cells": [
  {
   "cell_type": "code",
   "execution_count": 1,
   "metadata": {},
   "outputs": [],
   "source": [
    "import pandas as pd\n",
    "from selenium import webdriver\n",
    "from bs4 import BeautifulSoup\n",
    "from selenium.webdriver.common.by import By\n",
    "import time"
   ]
  },
  {
   "cell_type": "code",
   "execution_count": 4,
   "metadata": {},
   "outputs": [
    {
     "name": "stderr",
     "output_type": "stream",
     "text": [
      "C:\\Users\\gkfua\\AppData\\Local\\Temp\\ipykernel_9868\\1848815613.py:1: DeprecationWarning: executable_path has been deprecated, please pass in a Service object\n",
      "  driver = webdriver.Chrome(r'D:\\Google Drive\\내 드라이브\\chromedriver_win32\\chromedriver.exe')\n"
     ]
    }
   ],
   "source": [
    "driver = webdriver.Chrome(r'D:\\Google Drive\\내 드라이브\\chromedriver_win32\\chromedriver.exe')\n",
    "nsl = 'https://shoppinglive.naver.com/home'\n",
    "driver.get(nsl)\n",
    "time.sleep(5)\n",
    "\n",
    "soup = BeautifulSoup(driver.page_source, 'html.parser')\n",
    "live_list = soup.select('a.VideoBoxLinkWrapper_wrap_GLkZS')\n",
    "\n",
    "url_list = []\n",
    "url_temp = []\n",
    "channel_list = []\n",
    "for i in live_list:\n",
    "    url = i.get('href')\n",
    "    if 'https' in url:\n",
    "        url_temp.append(url)\n",
    "    if 'channels' in url:\n",
    "        channel_list.append(url)\n",
    "        \n",
    "for j in url_temp:\n",
    "    if 'lives' in j:\n",
    "        url_list.append(j)"
   ]
  },
  {
   "cell_type": "code",
   "execution_count": 74,
   "metadata": {},
   "outputs": [],
   "source": [
    "# 원하는 사이트 오픈\n",
    "\n",
    "url_num = 2\n",
    "driver = webdriver.Chrome(r'/Users/jang/Library/CloudStorage/GoogleDrive-gkfua00@gmail.com/내 드라이브/chromedriver_mac64/chromedriver')\n",
    "driver.get(url_list[url_num])"
   ]
  },
  {
   "cell_type": "code",
   "execution_count": 75,
   "metadata": {},
   "outputs": [
    {
     "name": "stdout",
     "output_type": "stream",
     "text": [
      "0\n",
      "1\n",
      "2\n",
      "3\n",
      "4\n",
      "5\n",
      "6\n",
      "7\n",
      "8\n",
      "9\n",
      "10\n",
      "11\n"
     ]
    }
   ],
   "source": [
    "repeat = 12\n",
    "\n",
    "empty = []\n",
    "df = pd.DataFrame({'name': empty, 'chat' : empty})\n",
    "\n",
    "for re_n in range(repeat):\n",
    "    soup = BeautifulSoup(driver.page_source, 'html.parser')\n",
    "    temp_list = soup.select('div.CommentList_animation_area_Ca5J9')\n",
    "    \n",
    "    chat_list_temp = []\n",
    "    for i in temp_list:\n",
    "        for j in i:\n",
    "            for k in j:\n",
    "                chat = k.select('span')\n",
    "                chat = str(chat)\n",
    "                chat_list_temp.append(chat)\n",
    "\n",
    "    name_list_temp = []\n",
    "    for i in temp_list:\n",
    "        for j in i:\n",
    "            name = j.select('strong')\n",
    "            name = str(name)\n",
    "            if 'nickname' in name:\n",
    "                name_list_temp.append(name)\n",
    "\n",
    "    chat_list = []\n",
    "    for i in chat_list_temp:\n",
    "        try:\n",
    "            i = (i.split('<')[1])\n",
    "            i = (i.split('>')[1])\n",
    "            chat_list.append(i)\n",
    "        except:\n",
    "            continue\n",
    "        \n",
    "    name_list = []\n",
    "    for i in name_list_temp:\n",
    "        try:\n",
    "            i = (i.split('<')[1])\n",
    "            i = (i.split('>')[1])\n",
    "            name_list.append(i)\n",
    "        except:\n",
    "            continue\n",
    "    \n",
    "    df_temp = pd.DataFrame({ 'name' : name_list, 'chat' : chat_list})\n",
    "    df = pd.concat([df, df_temp], ignore_index=True)\n",
    "    \n",
    "    print(re_n)\n",
    "    time.sleep(150)\n",
    "\n",
    "df.drop_duplicates(inplace=True)\n",
    "df.reset_index(drop=True, inplace=True)\n",
    "df.to_csv(r'/Users/jang/Library/CloudStorage/GoogleDrive-gkfua00@gmail.com/내 드라이브/LiveCommerse/df_save_{}.csv' .format(url_num))"
   ]
  },
  {
   "cell_type": "code",
   "execution_count": null,
   "metadata": {},
   "outputs": [],
   "source": []
  }
 ],
 "metadata": {
  "kernelspec": {
   "display_name": "Python 3.9.12 ('base')",
   "language": "python",
   "name": "python3"
  },
  "language_info": {
   "codemirror_mode": {
    "name": "ipython",
    "version": 3
   },
   "file_extension": ".py",
   "mimetype": "text/x-python",
   "name": "python",
   "nbconvert_exporter": "python",
   "pygments_lexer": "ipython3",
   "version": "3.9.13"
  },
  "orig_nbformat": 4,
  "vscode": {
   "interpreter": {
    "hash": "90db8e4aa760b59c926a8bae51d039c6a9c1adaa2be92842f32083d4ae884f30"
   }
  }
 },
 "nbformat": 4,
 "nbformat_minor": 2
}
